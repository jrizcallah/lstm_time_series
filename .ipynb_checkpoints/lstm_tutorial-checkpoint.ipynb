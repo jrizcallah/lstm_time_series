{
 "cells": [
  {
   "cell_type": "markdown",
   "id": "permanent-grace",
   "metadata": {},
   "source": [
    "# LSTM Models for Time Series Forecasting (Tutorial)"
   ]
  },
  {
   "cell_type": "markdown",
   "id": "sudden-warning",
   "metadata": {},
   "source": [
    "This notebook follows a tutorial for LSTM deep learning models for time series forecasting using Tensorflow. The article is available here:\n",
    "\n",
    "https://machinelearningmastery.com/how-to-develop-lstm-models-for-time-series-forecasting/\n",
    "\n",
    "It is a surpringly in-depth tutorial. This will be long and take a long time. We will explore:\n",
    "\n",
    "* Univariate LSTM models\n",
    "    * Data Preparation\n",
    "    * Vanilla LSTM\n",
    "    * Stacked LSTM\n",
    "    * Bidirectional LSTM\n",
    "    * CNN LSTM\n",
    "    * ConvLSTM\n",
    "* Multivariate LSTM models\n",
    "    * Multiple input series\n",
    "    * Multiple parallel series\n",
    "* Multi-Step LSTM models\n",
    "    * Data Preparation\n",
    "    * Vector output model\n",
    "    * Encoder-Decoder model\n",
    "* Multivariate Multi-Step models\n",
    "    * Multiple input multi-step output\n",
    "    * Multiple parallel input and multi-step output\n",
    "    \n",
    "Let's get started!"
   ]
  },
  {
   "cell_type": "code",
   "execution_count": null,
   "id": "favorite-runner",
   "metadata": {},
   "outputs": [],
   "source": []
  }
 ],
 "metadata": {
  "kernelspec": {
   "display_name": "Python 3",
   "language": "python",
   "name": "python3"
  },
  "language_info": {
   "codemirror_mode": {
    "name": "ipython",
    "version": 3
   },
   "file_extension": ".py",
   "mimetype": "text/x-python",
   "name": "python",
   "nbconvert_exporter": "python",
   "pygments_lexer": "ipython3",
   "version": "3.8.5"
  }
 },
 "nbformat": 4,
 "nbformat_minor": 5
}
